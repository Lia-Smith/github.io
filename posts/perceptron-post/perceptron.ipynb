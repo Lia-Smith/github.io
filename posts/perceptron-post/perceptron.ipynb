{
 "cells": [
  {
   "cell_type": "code",
   "execution_count": 6,
   "metadata": {},
   "outputs": [
    {
     "ename": "ImportError",
     "evalue": "cannot import name 'Perceptron' from 'perceptron' (c:\\Users\\liapu\\OneDrive\\Documents\\GitHub\\github.io\\posts\\perceptron-post\\perceptron.py)",
     "output_type": "error",
     "traceback": [
      "\u001b[1;31m---------------------------------------------------------------------------\u001b[0m",
      "\u001b[1;31mImportError\u001b[0m                               Traceback (most recent call last)",
      "Cell \u001b[1;32mIn[6], line 3\u001b[0m\n\u001b[0;32m      1\u001b[0m get_ipython()\u001b[38;5;241m.\u001b[39mrun_line_magic(\u001b[38;5;124m'\u001b[39m\u001b[38;5;124mload_ext\u001b[39m\u001b[38;5;124m'\u001b[39m, \u001b[38;5;124m'\u001b[39m\u001b[38;5;124mautoreload\u001b[39m\u001b[38;5;124m'\u001b[39m)\n\u001b[0;32m      2\u001b[0m get_ipython()\u001b[38;5;241m.\u001b[39mrun_line_magic(\u001b[38;5;124m'\u001b[39m\u001b[38;5;124mautoreload\u001b[39m\u001b[38;5;124m'\u001b[39m, \u001b[38;5;124m'\u001b[39m\u001b[38;5;124m2\u001b[39m\u001b[38;5;124m'\u001b[39m)\n\u001b[1;32m----> 3\u001b[0m \u001b[38;5;28;01mfrom\u001b[39;00m \u001b[38;5;21;01mperceptron\u001b[39;00m \u001b[38;5;28;01mimport\u001b[39;00m Perceptron, PerceptronOptimizer\n",
      "\u001b[1;31mImportError\u001b[0m: cannot import name 'Perceptron' from 'perceptron' (c:\\Users\\liapu\\OneDrive\\Documents\\GitHub\\github.io\\posts\\perceptron-post\\perceptron.py)"
     ]
    }
   ],
   "source": [
    "%load_ext autoreload\n",
    "%autoreload 2\n",
    "from perceptron import Perceptron, PerceptronOptimizer"
   ]
  },
  {
   "cell_type": "code",
   "execution_count": 1,
   "metadata": {},
   "outputs": [],
   "source": [
    "import torch\n",
    "import pandas\n",
    "\n",
    "torch.manual_seed(1234)\n",
    "\n",
    "def perceptron_data(n_points = 300, noise = 0.2):\n",
    "    \n",
    "    y = torch.arange(n_points) >= int(n_points/2)\n",
    "    X = y[:, None] + torch.normal(0.0, noise, size = (n_points,2))\n",
    "    X = torch.cat((X, torch.ones((X.shape[0], 1))), 1)\n",
    "\n",
    "    # convert y from {0, 1} to {-1, 1}\n",
    "    y = 2*y - 1\n",
    "\n",
    "    return X, y\n",
    "\n",
    "X, y = perceptron_data(n_points = 300, noise = 0.2)"
   ]
  },
  {
   "cell_type": "code",
   "execution_count": 4,
   "metadata": {},
   "outputs": [],
   "source": [
    "class LinearModel:\n",
    "\n",
    "    def __init__(self):\n",
    "        self.w = None \n",
    "\n",
    "    def score(self, X):\n",
    "        \"\"\"\n",
    "        Compute the scores for each data point in the feature matrix X. \n",
    "        The formula for the ith entry of s is s[i] = <self.w, x[i]>. \n",
    "\n",
    "        If self.w currently has value None, then it is necessary to first initialize self.w to a random value. \n",
    "\n",
    "        ARGUMENTS: \n",
    "            X, torch.Tensor: the feature matrix. X.size() == (n, p), \n",
    "            where n is the number of data points and p is the \n",
    "            number of features. This implementation always assumes \n",
    "            that the final column of X is a constant column of 1s. \n",
    "\n",
    "        RETURNS: \n",
    "            s torch.Tensor: vector of scores. s.size() = (n,)\n",
    "        \"\"\"\n",
    "        if self.w is None: \n",
    "            self.w = torch.rand((X.size()[1]))\n",
    "\n",
    "        # your computation here: compute the vector of scores s\n",
    "        s = X @ self.w\n",
    "        return s\n",
    "\n",
    "    def predict(self, X):\n",
    "        \"\"\"\n",
    "        Compute the predictions for each data point in the feature matrix X. The prediction for the ith data point is either 0 or 1. \n",
    "\n",
    "        ARGUMENTS: \n",
    "            X, torch.Tensor: the feature matrix. X.size() == (n, p), \n",
    "            where n is the number of data points and p is the \n",
    "            number of features. This implementation always assumes \n",
    "            that the final column of X is a constant column of 1s. \n",
    "\n",
    "        RETURNS: \n",
    "            y_hat, torch.Tensor: vector predictions in {0.0, 1.0}. y_hat.size() = (n,)\n",
    "        \"\"\"\n",
    "        s = self.score(X)\n",
    "        y_hat = (s>0)*1.0\n",
    "        return y_hat\n",
    "\n",
    "class Perceptron(LinearModel):\n",
    "\n",
    "    def loss(self, X, y):\n",
    "        \"\"\"\n",
    "        Compute the misclassification rate. A point i is classified correctly if it holds that s_i*y_i_ > 0, where y_i_ is the *modified label* that has values in {-1, 1} (rather than {0, 1}). \n",
    "\n",
    "        ARGUMENTS: \n",
    "            X, torch.Tensor: the feature matrix. X.size() == (n, p), \n",
    "            where n is the number of data points and p is the \n",
    "            number of features. This implementation always assumes \n",
    "            that the final column of X is a constant column of 1s. \n",
    "\n",
    "            y, torch.Tensor: the target vector.  y.size() = (n,). The possible labels for y are {0, 1}\n",
    "        \n",
    "        HINT: In order to use the math formulas in the lecture, you are going to need to construct a modified set of targets and predictions that have entries in {-1, 1} -- otherwise none of the formulas will work right! An easy to to make this conversion is: \n",
    "        \n",
    "        y_ = 2*y - 1\n",
    "        \"\"\"\n",
    "\n",
    "        # replace with your implementation\n",
    "        y_ = 2 * y - 1\n",
    "        s = self.score(X)\n",
    "        corr_array = (s*y_<=0)*1.0\n",
    "        loss = corr_array.mean()\n",
    "        return(loss)\n",
    "\n",
    "\n",
    "\n",
    "    def grad(self, X, y):\n",
    "        pass \n",
    "\n",
    "class PerceptronOptimizer:\n",
    "\n",
    "    def __init__(self, model):\n",
    "        self.model = model \n",
    "    \n",
    "    def step(self, X, y):\n",
    "        \"\"\"\n",
    "        Compute one step of the perceptron update using the feature matrix X \n",
    "        and target vector y. \n",
    "        \"\"\"\n",
    "        "
   ]
  },
  {
   "cell_type": "code",
   "execution_count": 5,
   "metadata": {},
   "outputs": [
    {
     "name": "stdout",
     "output_type": "stream",
     "text": [
      "tensor(True)\n"
     ]
    }
   ],
   "source": [
    "p = Perceptron()\n",
    "s = p.score(X)\n",
    "l = p.loss(X, y)\n",
    "print(l == 0.5)"
   ]
  }
 ],
 "metadata": {
  "kernelspec": {
   "display_name": "ml-0451",
   "language": "python",
   "name": "python3"
  },
  "language_info": {
   "codemirror_mode": {
    "name": "ipython",
    "version": 3
   },
   "file_extension": ".py",
   "mimetype": "text/x-python",
   "name": "python",
   "nbconvert_exporter": "python",
   "pygments_lexer": "ipython3",
   "version": "3.12.9"
  }
 },
 "nbformat": 4,
 "nbformat_minor": 2
}
