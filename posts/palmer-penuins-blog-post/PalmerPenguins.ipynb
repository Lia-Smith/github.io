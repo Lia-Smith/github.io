{
 "cells": [
  {
   "cell_type": "raw",
   "metadata": {
    "vscode": {
     "languageId": "raw"
    }
   },
   "source": [
    "---\n",
    "title: Palmer Penguins\n",
    "author: Lia Smith\n",
    "date: '2025-02-22'\n",
    "description: \"Palmer Penguins Blog Post.\"\n",
    "format: html\n",
    "---"
   ]
  },
  {
   "cell_type": "markdown",
   "metadata": {},
   "source": [
    "# Abstract\n",
    "The Palmer Penguins is a dataset of three different species of Penguins from Antartica. THe dataset consists of many physical features of each of the species. In this blog post, I pick three salient features that enable the highest accuracy possible. "
   ]
  },
  {
   "cell_type": "code",
   "execution_count": 3,
   "metadata": {},
   "outputs": [
    {
     "data": {
      "text/html": [
       "<div>\n",
       "<style scoped>\n",
       "    .dataframe tbody tr th:only-of-type {\n",
       "        vertical-align: middle;\n",
       "    }\n",
       "\n",
       "    .dataframe tbody tr th {\n",
       "        vertical-align: top;\n",
       "    }\n",
       "\n",
       "    .dataframe thead th {\n",
       "        text-align: right;\n",
       "    }\n",
       "</style>\n",
       "<table border=\"1\" class=\"dataframe\">\n",
       "  <thead>\n",
       "    <tr style=\"text-align: right;\">\n",
       "      <th></th>\n",
       "      <th>studyName</th>\n",
       "      <th>Sample Number</th>\n",
       "      <th>Species</th>\n",
       "      <th>Region</th>\n",
       "      <th>Island</th>\n",
       "      <th>Stage</th>\n",
       "      <th>Individual ID</th>\n",
       "      <th>Clutch Completion</th>\n",
       "      <th>Date Egg</th>\n",
       "      <th>Culmen Length (mm)</th>\n",
       "      <th>Culmen Depth (mm)</th>\n",
       "      <th>Flipper Length (mm)</th>\n",
       "      <th>Body Mass (g)</th>\n",
       "      <th>Sex</th>\n",
       "      <th>Delta 15 N (o/oo)</th>\n",
       "      <th>Delta 13 C (o/oo)</th>\n",
       "      <th>Comments</th>\n",
       "    </tr>\n",
       "  </thead>\n",
       "  <tbody>\n",
       "    <tr>\n",
       "      <th>0</th>\n",
       "      <td>PAL0809</td>\n",
       "      <td>31</td>\n",
       "      <td>Chinstrap penguin (Pygoscelis antarctica)</td>\n",
       "      <td>Anvers</td>\n",
       "      <td>Dream</td>\n",
       "      <td>Adult, 1 Egg Stage</td>\n",
       "      <td>N63A1</td>\n",
       "      <td>Yes</td>\n",
       "      <td>11/24/08</td>\n",
       "      <td>40.9</td>\n",
       "      <td>16.6</td>\n",
       "      <td>187.0</td>\n",
       "      <td>3200.0</td>\n",
       "      <td>FEMALE</td>\n",
       "      <td>9.08458</td>\n",
       "      <td>-24.54903</td>\n",
       "      <td>NaN</td>\n",
       "    </tr>\n",
       "    <tr>\n",
       "      <th>1</th>\n",
       "      <td>PAL0809</td>\n",
       "      <td>41</td>\n",
       "      <td>Chinstrap penguin (Pygoscelis antarctica)</td>\n",
       "      <td>Anvers</td>\n",
       "      <td>Dream</td>\n",
       "      <td>Adult, 1 Egg Stage</td>\n",
       "      <td>N74A1</td>\n",
       "      <td>Yes</td>\n",
       "      <td>11/24/08</td>\n",
       "      <td>49.0</td>\n",
       "      <td>19.5</td>\n",
       "      <td>210.0</td>\n",
       "      <td>3950.0</td>\n",
       "      <td>MALE</td>\n",
       "      <td>9.53262</td>\n",
       "      <td>-24.66867</td>\n",
       "      <td>NaN</td>\n",
       "    </tr>\n",
       "    <tr>\n",
       "      <th>2</th>\n",
       "      <td>PAL0708</td>\n",
       "      <td>4</td>\n",
       "      <td>Gentoo penguin (Pygoscelis papua)</td>\n",
       "      <td>Anvers</td>\n",
       "      <td>Biscoe</td>\n",
       "      <td>Adult, 1 Egg Stage</td>\n",
       "      <td>N32A2</td>\n",
       "      <td>Yes</td>\n",
       "      <td>11/27/07</td>\n",
       "      <td>50.0</td>\n",
       "      <td>15.2</td>\n",
       "      <td>218.0</td>\n",
       "      <td>5700.0</td>\n",
       "      <td>MALE</td>\n",
       "      <td>8.25540</td>\n",
       "      <td>-25.40075</td>\n",
       "      <td>NaN</td>\n",
       "    </tr>\n",
       "    <tr>\n",
       "      <th>3</th>\n",
       "      <td>PAL0708</td>\n",
       "      <td>15</td>\n",
       "      <td>Gentoo penguin (Pygoscelis papua)</td>\n",
       "      <td>Anvers</td>\n",
       "      <td>Biscoe</td>\n",
       "      <td>Adult, 1 Egg Stage</td>\n",
       "      <td>N38A1</td>\n",
       "      <td>Yes</td>\n",
       "      <td>12/3/07</td>\n",
       "      <td>45.8</td>\n",
       "      <td>14.6</td>\n",
       "      <td>210.0</td>\n",
       "      <td>4200.0</td>\n",
       "      <td>FEMALE</td>\n",
       "      <td>7.79958</td>\n",
       "      <td>-25.62618</td>\n",
       "      <td>NaN</td>\n",
       "    </tr>\n",
       "    <tr>\n",
       "      <th>4</th>\n",
       "      <td>PAL0809</td>\n",
       "      <td>34</td>\n",
       "      <td>Chinstrap penguin (Pygoscelis antarctica)</td>\n",
       "      <td>Anvers</td>\n",
       "      <td>Dream</td>\n",
       "      <td>Adult, 1 Egg Stage</td>\n",
       "      <td>N65A2</td>\n",
       "      <td>Yes</td>\n",
       "      <td>11/24/08</td>\n",
       "      <td>51.0</td>\n",
       "      <td>18.8</td>\n",
       "      <td>203.0</td>\n",
       "      <td>4100.0</td>\n",
       "      <td>MALE</td>\n",
       "      <td>9.23196</td>\n",
       "      <td>-24.17282</td>\n",
       "      <td>NaN</td>\n",
       "    </tr>\n",
       "  </tbody>\n",
       "</table>\n",
       "</div>"
      ],
      "text/plain": [
       "  studyName  Sample Number                                    Species  Region  \\\n",
       "0   PAL0809             31  Chinstrap penguin (Pygoscelis antarctica)  Anvers   \n",
       "1   PAL0809             41  Chinstrap penguin (Pygoscelis antarctica)  Anvers   \n",
       "2   PAL0708              4          Gentoo penguin (Pygoscelis papua)  Anvers   \n",
       "3   PAL0708             15          Gentoo penguin (Pygoscelis papua)  Anvers   \n",
       "4   PAL0809             34  Chinstrap penguin (Pygoscelis antarctica)  Anvers   \n",
       "\n",
       "   Island               Stage Individual ID Clutch Completion  Date Egg  \\\n",
       "0   Dream  Adult, 1 Egg Stage         N63A1               Yes  11/24/08   \n",
       "1   Dream  Adult, 1 Egg Stage         N74A1               Yes  11/24/08   \n",
       "2  Biscoe  Adult, 1 Egg Stage         N32A2               Yes  11/27/07   \n",
       "3  Biscoe  Adult, 1 Egg Stage         N38A1               Yes   12/3/07   \n",
       "4   Dream  Adult, 1 Egg Stage         N65A2               Yes  11/24/08   \n",
       "\n",
       "   Culmen Length (mm)  Culmen Depth (mm)  Flipper Length (mm)  Body Mass (g)  \\\n",
       "0                40.9               16.6                187.0         3200.0   \n",
       "1                49.0               19.5                210.0         3950.0   \n",
       "2                50.0               15.2                218.0         5700.0   \n",
       "3                45.8               14.6                210.0         4200.0   \n",
       "4                51.0               18.8                203.0         4100.0   \n",
       "\n",
       "      Sex  Delta 15 N (o/oo)  Delta 13 C (o/oo) Comments  \n",
       "0  FEMALE            9.08458          -24.54903      NaN  \n",
       "1    MALE            9.53262          -24.66867      NaN  \n",
       "2    MALE            8.25540          -25.40075      NaN  \n",
       "3  FEMALE            7.79958          -25.62618      NaN  \n",
       "4    MALE            9.23196          -24.17282      NaN  "
      ]
     },
     "execution_count": 3,
     "metadata": {},
     "output_type": "execute_result"
    }
   ],
   "source": [
    "import pandas as pd\n",
    "\n",
    "train_url = \"https://raw.githubusercontent.com/PhilChodrow/ml-notes/main/data/palmer-penguins/train.csv\"\n",
    "train = pd.read_csv(train_url)\n",
    "train.head()"
   ]
  },
  {
   "cell_type": "code",
   "execution_count": 5,
   "metadata": {},
   "outputs": [
    {
     "data": {
      "text/html": [
       "<div>\n",
       "<style scoped>\n",
       "    .dataframe tbody tr th:only-of-type {\n",
       "        vertical-align: middle;\n",
       "    }\n",
       "\n",
       "    .dataframe tbody tr th {\n",
       "        vertical-align: top;\n",
       "    }\n",
       "\n",
       "    .dataframe thead th {\n",
       "        text-align: right;\n",
       "    }\n",
       "</style>\n",
       "<table border=\"1\" class=\"dataframe\">\n",
       "  <thead>\n",
       "    <tr style=\"text-align: right;\">\n",
       "      <th></th>\n",
       "      <th>Culmen Length (mm)</th>\n",
       "      <th>Culmen Depth (mm)</th>\n",
       "      <th>Flipper Length (mm)</th>\n",
       "      <th>Body Mass (g)</th>\n",
       "      <th>Delta 15 N (o/oo)</th>\n",
       "      <th>Delta 13 C (o/oo)</th>\n",
       "      <th>Island_Biscoe</th>\n",
       "      <th>Island_Dream</th>\n",
       "      <th>Island_Torgersen</th>\n",
       "      <th>Stage_Adult, 1 Egg Stage</th>\n",
       "      <th>Clutch Completion_No</th>\n",
       "      <th>Clutch Completion_Yes</th>\n",
       "      <th>Sex_FEMALE</th>\n",
       "      <th>Sex_MALE</th>\n",
       "    </tr>\n",
       "  </thead>\n",
       "  <tbody>\n",
       "    <tr>\n",
       "      <th>0</th>\n",
       "      <td>40.9</td>\n",
       "      <td>16.6</td>\n",
       "      <td>187.0</td>\n",
       "      <td>3200.0</td>\n",
       "      <td>9.08458</td>\n",
       "      <td>-24.54903</td>\n",
       "      <td>False</td>\n",
       "      <td>True</td>\n",
       "      <td>False</td>\n",
       "      <td>True</td>\n",
       "      <td>False</td>\n",
       "      <td>True</td>\n",
       "      <td>True</td>\n",
       "      <td>False</td>\n",
       "    </tr>\n",
       "    <tr>\n",
       "      <th>1</th>\n",
       "      <td>49.0</td>\n",
       "      <td>19.5</td>\n",
       "      <td>210.0</td>\n",
       "      <td>3950.0</td>\n",
       "      <td>9.53262</td>\n",
       "      <td>-24.66867</td>\n",
       "      <td>False</td>\n",
       "      <td>True</td>\n",
       "      <td>False</td>\n",
       "      <td>True</td>\n",
       "      <td>False</td>\n",
       "      <td>True</td>\n",
       "      <td>False</td>\n",
       "      <td>True</td>\n",
       "    </tr>\n",
       "    <tr>\n",
       "      <th>2</th>\n",
       "      <td>50.0</td>\n",
       "      <td>15.2</td>\n",
       "      <td>218.0</td>\n",
       "      <td>5700.0</td>\n",
       "      <td>8.25540</td>\n",
       "      <td>-25.40075</td>\n",
       "      <td>True</td>\n",
       "      <td>False</td>\n",
       "      <td>False</td>\n",
       "      <td>True</td>\n",
       "      <td>False</td>\n",
       "      <td>True</td>\n",
       "      <td>False</td>\n",
       "      <td>True</td>\n",
       "    </tr>\n",
       "    <tr>\n",
       "      <th>3</th>\n",
       "      <td>45.8</td>\n",
       "      <td>14.6</td>\n",
       "      <td>210.0</td>\n",
       "      <td>4200.0</td>\n",
       "      <td>7.79958</td>\n",
       "      <td>-25.62618</td>\n",
       "      <td>True</td>\n",
       "      <td>False</td>\n",
       "      <td>False</td>\n",
       "      <td>True</td>\n",
       "      <td>False</td>\n",
       "      <td>True</td>\n",
       "      <td>True</td>\n",
       "      <td>False</td>\n",
       "    </tr>\n",
       "    <tr>\n",
       "      <th>4</th>\n",
       "      <td>51.0</td>\n",
       "      <td>18.8</td>\n",
       "      <td>203.0</td>\n",
       "      <td>4100.0</td>\n",
       "      <td>9.23196</td>\n",
       "      <td>-24.17282</td>\n",
       "      <td>False</td>\n",
       "      <td>True</td>\n",
       "      <td>False</td>\n",
       "      <td>True</td>\n",
       "      <td>False</td>\n",
       "      <td>True</td>\n",
       "      <td>False</td>\n",
       "      <td>True</td>\n",
       "    </tr>\n",
       "  </tbody>\n",
       "</table>\n",
       "</div>"
      ],
      "text/plain": [
       "   Culmen Length (mm)  Culmen Depth (mm)  Flipper Length (mm)  Body Mass (g)  \\\n",
       "0                40.9               16.6                187.0         3200.0   \n",
       "1                49.0               19.5                210.0         3950.0   \n",
       "2                50.0               15.2                218.0         5700.0   \n",
       "3                45.8               14.6                210.0         4200.0   \n",
       "4                51.0               18.8                203.0         4100.0   \n",
       "\n",
       "   Delta 15 N (o/oo)  Delta 13 C (o/oo)  Island_Biscoe  Island_Dream  \\\n",
       "0            9.08458          -24.54903          False          True   \n",
       "1            9.53262          -24.66867          False          True   \n",
       "2            8.25540          -25.40075           True         False   \n",
       "3            7.79958          -25.62618           True         False   \n",
       "4            9.23196          -24.17282          False          True   \n",
       "\n",
       "   Island_Torgersen  Stage_Adult, 1 Egg Stage  Clutch Completion_No  \\\n",
       "0             False                      True                 False   \n",
       "1             False                      True                 False   \n",
       "2             False                      True                 False   \n",
       "3             False                      True                 False   \n",
       "4             False                      True                 False   \n",
       "\n",
       "   Clutch Completion_Yes  Sex_FEMALE  Sex_MALE  \n",
       "0                   True        True     False  \n",
       "1                   True       False      True  \n",
       "2                   True       False      True  \n",
       "3                   True        True     False  \n",
       "4                   True       False      True  "
      ]
     },
     "execution_count": 5,
     "metadata": {},
     "output_type": "execute_result"
    }
   ],
   "source": [
    "\n",
    "from sklearn.preprocessing import LabelEncoder\n",
    "le = LabelEncoder()\n",
    "le.fit(train[\"Species\"])\n",
    "\n",
    "#vectorizing categorical data via hot encoding\n",
    "\n",
    "def prepare_data(df):\n",
    "  df = df.drop([\"studyName\", \"Sample Number\", \"Individual ID\", \"Date Egg\", \"Comments\", \"Region\"], axis = 1)\n",
    "  df = df[df[\"Sex\"] != \".\"]\n",
    "  df = df.dropna()\n",
    "  y = le.transform(df[\"Species\"])\n",
    "  df = df.drop([\"Species\"], axis = 1)\n",
    "  df = pd.get_dummies(df)\n",
    "  return df, y\n",
    "\n",
    "X_train, y_train = prepare_data(train)\n",
    "X_train.head()"
   ]
  },
  {
   "cell_type": "markdown",
   "metadata": {},
   "source": [
    "### Visualizations and Table\n"
   ]
  },
  {
   "cell_type": "code",
   "execution_count": 6,
   "metadata": {},
   "outputs": [
    {
     "data": {
      "text/html": [
       "<div>\n",
       "<style scoped>\n",
       "    .dataframe tbody tr th:only-of-type {\n",
       "        vertical-align: middle;\n",
       "    }\n",
       "\n",
       "    .dataframe tbody tr th {\n",
       "        vertical-align: top;\n",
       "    }\n",
       "\n",
       "    .dataframe thead th {\n",
       "        text-align: right;\n",
       "    }\n",
       "</style>\n",
       "<table border=\"1\" class=\"dataframe\">\n",
       "  <thead>\n",
       "    <tr style=\"text-align: right;\">\n",
       "      <th></th>\n",
       "      <th>Culmen Length (mm)</th>\n",
       "      <th>Culmen Depth (mm)</th>\n",
       "      <th>Flipper Length (mm)</th>\n",
       "      <th>Body Mass (g)</th>\n",
       "      <th>Delta 15 N (o/oo)</th>\n",
       "      <th>Delta 13 C (o/oo)</th>\n",
       "      <th>Island_Biscoe</th>\n",
       "      <th>Island_Dream</th>\n",
       "      <th>Island_Torgersen</th>\n",
       "      <th>Stage_Adult, 1 Egg Stage</th>\n",
       "      <th>Clutch Completion_No</th>\n",
       "      <th>Clutch Completion_Yes</th>\n",
       "      <th>Sex_FEMALE</th>\n",
       "      <th>Sex_MALE</th>\n",
       "    </tr>\n",
       "    <tr>\n",
       "      <th>Species</th>\n",
       "      <th></th>\n",
       "      <th></th>\n",
       "      <th></th>\n",
       "      <th></th>\n",
       "      <th></th>\n",
       "      <th></th>\n",
       "      <th></th>\n",
       "      <th></th>\n",
       "      <th></th>\n",
       "      <th></th>\n",
       "      <th></th>\n",
       "      <th></th>\n",
       "      <th></th>\n",
       "      <th></th>\n",
       "    </tr>\n",
       "  </thead>\n",
       "  <tbody>\n",
       "    <tr>\n",
       "      <th>Adelie Penguin (Pygoscelis adeliae)</th>\n",
       "      <td>38.961111</td>\n",
       "      <td>18.380556</td>\n",
       "      <td>190.527778</td>\n",
       "      <td>3722.916667</td>\n",
       "      <td>8.861431</td>\n",
       "      <td>-25.808814</td>\n",
       "      <td>0.305556</td>\n",
       "      <td>0.37963</td>\n",
       "      <td>0.314815</td>\n",
       "      <td>1.0</td>\n",
       "      <td>0.101852</td>\n",
       "      <td>0.898148</td>\n",
       "      <td>0.481481</td>\n",
       "      <td>0.518519</td>\n",
       "    </tr>\n",
       "    <tr>\n",
       "      <th>Chinstrap penguin (Pygoscelis antarctica)</th>\n",
       "      <td>48.771429</td>\n",
       "      <td>18.346429</td>\n",
       "      <td>195.821429</td>\n",
       "      <td>3739.732143</td>\n",
       "      <td>9.331004</td>\n",
       "      <td>-24.567075</td>\n",
       "      <td>0.000000</td>\n",
       "      <td>1.00000</td>\n",
       "      <td>0.000000</td>\n",
       "      <td>1.0</td>\n",
       "      <td>0.178571</td>\n",
       "      <td>0.821429</td>\n",
       "      <td>0.553571</td>\n",
       "      <td>0.446429</td>\n",
       "    </tr>\n",
       "    <tr>\n",
       "      <th>Gentoo penguin (Pygoscelis papua)</th>\n",
       "      <td>47.133696</td>\n",
       "      <td>14.926087</td>\n",
       "      <td>216.739130</td>\n",
       "      <td>5057.336957</td>\n",
       "      <td>8.252573</td>\n",
       "      <td>-26.145754</td>\n",
       "      <td>1.000000</td>\n",
       "      <td>0.00000</td>\n",
       "      <td>0.000000</td>\n",
       "      <td>1.0</td>\n",
       "      <td>0.076087</td>\n",
       "      <td>0.923913</td>\n",
       "      <td>0.532609</td>\n",
       "      <td>0.467391</td>\n",
       "    </tr>\n",
       "  </tbody>\n",
       "</table>\n",
       "</div>"
      ],
      "text/plain": [
       "                                           Culmen Length (mm)  \\\n",
       "Species                                                         \n",
       "Adelie Penguin (Pygoscelis adeliae)                 38.961111   \n",
       "Chinstrap penguin (Pygoscelis antarctica)           48.771429   \n",
       "Gentoo penguin (Pygoscelis papua)                   47.133696   \n",
       "\n",
       "                                           Culmen Depth (mm)  \\\n",
       "Species                                                        \n",
       "Adelie Penguin (Pygoscelis adeliae)                18.380556   \n",
       "Chinstrap penguin (Pygoscelis antarctica)          18.346429   \n",
       "Gentoo penguin (Pygoscelis papua)                  14.926087   \n",
       "\n",
       "                                           Flipper Length (mm)  Body Mass (g)  \\\n",
       "Species                                                                         \n",
       "Adelie Penguin (Pygoscelis adeliae)                 190.527778    3722.916667   \n",
       "Chinstrap penguin (Pygoscelis antarctica)           195.821429    3739.732143   \n",
       "Gentoo penguin (Pygoscelis papua)                   216.739130    5057.336957   \n",
       "\n",
       "                                           Delta 15 N (o/oo)  \\\n",
       "Species                                                        \n",
       "Adelie Penguin (Pygoscelis adeliae)                 8.861431   \n",
       "Chinstrap penguin (Pygoscelis antarctica)           9.331004   \n",
       "Gentoo penguin (Pygoscelis papua)                   8.252573   \n",
       "\n",
       "                                           Delta 13 C (o/oo)  Island_Biscoe  \\\n",
       "Species                                                                       \n",
       "Adelie Penguin (Pygoscelis adeliae)               -25.808814       0.305556   \n",
       "Chinstrap penguin (Pygoscelis antarctica)         -24.567075       0.000000   \n",
       "Gentoo penguin (Pygoscelis papua)                 -26.145754       1.000000   \n",
       "\n",
       "                                           Island_Dream  Island_Torgersen  \\\n",
       "Species                                                                     \n",
       "Adelie Penguin (Pygoscelis adeliae)             0.37963          0.314815   \n",
       "Chinstrap penguin (Pygoscelis antarctica)       1.00000          0.000000   \n",
       "Gentoo penguin (Pygoscelis papua)               0.00000          0.000000   \n",
       "\n",
       "                                           Stage_Adult, 1 Egg Stage  \\\n",
       "Species                                                               \n",
       "Adelie Penguin (Pygoscelis adeliae)                             1.0   \n",
       "Chinstrap penguin (Pygoscelis antarctica)                       1.0   \n",
       "Gentoo penguin (Pygoscelis papua)                               1.0   \n",
       "\n",
       "                                           Clutch Completion_No  \\\n",
       "Species                                                           \n",
       "Adelie Penguin (Pygoscelis adeliae)                    0.101852   \n",
       "Chinstrap penguin (Pygoscelis antarctica)              0.178571   \n",
       "Gentoo penguin (Pygoscelis papua)                      0.076087   \n",
       "\n",
       "                                           Clutch Completion_Yes  Sex_FEMALE  \\\n",
       "Species                                                                        \n",
       "Adelie Penguin (Pygoscelis adeliae)                     0.898148    0.481481   \n",
       "Chinstrap penguin (Pygoscelis antarctica)               0.821429    0.553571   \n",
       "Gentoo penguin (Pygoscelis papua)                       0.923913    0.532609   \n",
       "\n",
       "                                           Sex_MALE  \n",
       "Species                                              \n",
       "Adelie Penguin (Pygoscelis adeliae)        0.518519  \n",
       "Chinstrap penguin (Pygoscelis antarctica)  0.446429  \n",
       "Gentoo penguin (Pygoscelis papua)          0.467391  "
      ]
     },
     "execution_count": 6,
     "metadata": {},
     "output_type": "execute_result"
    }
   ],
   "source": [
    "X_train_labs = X_train\n",
    "X_train_labs['Species'] = train['Species']\n",
    "data_summary = X_train_labs.groupby('Species').aggregate('mean')\n",
    "data_summary.head() #mean of the numeric features\n",
    "\n",
    "#Lia Notes: \n",
    "#1) Body mass of Gentoo very high compared to Adelie and Chinstrap\n",
    "\n",
    "#2) Culmin length Adelie different than Chinstrap and Gentoo\n",
    "\n",
    "#3) Chinstrap 100% on Island_Dream as compared to .37 for Adelie and 0 for Gentoo\n",
    "\n",
    "\n"
   ]
  },
  {
   "cell_type": "code",
   "execution_count": 22,
   "metadata": {},
   "outputs": [
    {
     "data": {
      "application/vnd.plotly.v1+json": {
       "config": {
        "plotlyServerURL": "https://plot.ly"
       },
       "data": [
        {
         "hovertemplate": "<b>%{hovertext}</b><br><br>Species=Chinstrap penguin (Pygoscelis antarctica)<br>Culmen Length (mm)=%{z}<br>Body Mass (g)=%{y}<extra></extra>",
         "hovertext": [
          "Chinstrap penguin (Pygoscelis antarctica)",
          "Chinstrap penguin (Pygoscelis antarctica)",
          "Chinstrap penguin (Pygoscelis antarctica)",
          "Chinstrap penguin (Pygoscelis antarctica)",
          "Chinstrap penguin (Pygoscelis antarctica)",
          "Chinstrap penguin (Pygoscelis antarctica)",
          "Chinstrap penguin (Pygoscelis antarctica)",
          "Chinstrap penguin (Pygoscelis antarctica)",
          "Chinstrap penguin (Pygoscelis antarctica)",
          "Chinstrap penguin (Pygoscelis antarctica)",
          "Chinstrap penguin (Pygoscelis antarctica)",
          "Chinstrap penguin (Pygoscelis antarctica)",
          "Chinstrap penguin (Pygoscelis antarctica)",
          "Chinstrap penguin (Pygoscelis antarctica)",
          "Chinstrap penguin (Pygoscelis antarctica)",
          "Chinstrap penguin (Pygoscelis antarctica)",
          "Chinstrap penguin (Pygoscelis antarctica)",
          "Chinstrap penguin (Pygoscelis antarctica)",
          "Chinstrap penguin (Pygoscelis antarctica)",
          "Chinstrap penguin (Pygoscelis antarctica)",
          "Chinstrap penguin (Pygoscelis antarctica)",
          "Chinstrap penguin (Pygoscelis antarctica)",
          "Chinstrap penguin (Pygoscelis antarctica)",
          "Chinstrap penguin (Pygoscelis antarctica)",
          "Chinstrap penguin (Pygoscelis antarctica)",
          "Chinstrap penguin (Pygoscelis antarctica)",
          "Chinstrap penguin (Pygoscelis antarctica)",
          "Chinstrap penguin (Pygoscelis antarctica)",
          "Chinstrap penguin (Pygoscelis antarctica)",
          "Chinstrap penguin (Pygoscelis antarctica)",
          "Chinstrap penguin (Pygoscelis antarctica)",
          "Chinstrap penguin (Pygoscelis antarctica)",
          "Chinstrap penguin (Pygoscelis antarctica)",
          "Chinstrap penguin (Pygoscelis antarctica)",
          "Chinstrap penguin (Pygoscelis antarctica)",
          "Chinstrap penguin (Pygoscelis antarctica)",
          "Chinstrap penguin (Pygoscelis antarctica)",
          "Chinstrap penguin (Pygoscelis antarctica)",
          "Chinstrap penguin (Pygoscelis antarctica)",
          "Chinstrap penguin (Pygoscelis antarctica)",
          "Chinstrap penguin (Pygoscelis antarctica)",
          "Chinstrap penguin (Pygoscelis antarctica)",
          "Chinstrap penguin (Pygoscelis antarctica)",
          "Chinstrap penguin (Pygoscelis antarctica)",
          "Chinstrap penguin (Pygoscelis antarctica)",
          "Chinstrap penguin (Pygoscelis antarctica)",
          "Chinstrap penguin (Pygoscelis antarctica)",
          "Chinstrap penguin (Pygoscelis antarctica)",
          "Chinstrap penguin (Pygoscelis antarctica)",
          "Chinstrap penguin (Pygoscelis antarctica)",
          "Chinstrap penguin (Pygoscelis antarctica)",
          "Chinstrap penguin (Pygoscelis antarctica)",
          "Chinstrap penguin (Pygoscelis antarctica)",
          "Chinstrap penguin (Pygoscelis antarctica)",
          "Chinstrap penguin (Pygoscelis antarctica)",
          "Chinstrap penguin (Pygoscelis antarctica)"
         ],
         "legendgroup": "Chinstrap penguin (Pygoscelis antarctica)",
         "marker": {
          "color": "#636efa",
          "symbol": "circle"
         },
         "mode": "markers",
         "name": "Chinstrap penguin (Pygoscelis antarctica)",
         "scene": "scene",
         "showlegend": true,
         "type": "scatter3d",
         "x": {
          "bdata": "MzMzMzNzREAAAAAAAIBIQAAAAAAAgElAZmZmZmZmSkDNzMzMzAxHQJqZmZmZ2UhAAAAAAAAATUAzMzMzM3NHQM3MzMzMDElAmpmZmZkZSkAAAAAAAABHQJqZmZmZ2UlAmpmZmZnZRkAAAAAAAIBIQAAAAAAAQEVAmpmZmZmZRkBmZmZmZmZJQGZmZmZmpkhAAAAAAADASkAAAAAAAABKQAAAAAAAwEZAAAAAAABAR0AAAAAAAMBHQGZmZmZm5ktAzczMzMzMSEAAAAAAAABKQJqZmZmZGUtAZmZmZmZmSUAzMzMzMzNHQDMzMzMzc0lAAAAAAACAR0AAAAAAAABKQAAAAAAAwEVAZmZmZmamSUCamZmZmZlFQDMzMzMz80ZAmpmZmZmZSEAzMzMzM7NJQJqZmZmZmUZAzczMzMxMR0AAAAAAAEBJQJqZmZmZ2UZAzczMzMzMRkBmZmZmZqZJQAAAAAAAQElAzczMzMwMSECamZmZmRlJQGZmZmZm5khAZmZmZmamSUCamZmZmVlHQDMzMzMzc0lAZmZmZmZmR0AzMzMzM7NGQM3MzMzMzEdAAAAAAADASUAzMzMzMzNFQA==",
          "dtype": "f8"
         },
         "y": {
          "bdata": "AAAAAAAAqUAAAAAAANyuQAAAAAAABLBAAAAAAADGsUAAAAAAAGSpQAAAAAAAIKxAAAAAAADorEAAAAAAABilQAAAAAAAkKpAAAAAAAD0qkAAAAAAADawQAAAAAAAfq1AAAAAAAAgrEAAAAAAAMywQAAAAAAALKpAAAAAAADcrkAAAAAAAGKxQAAAAAAApK9AAAAAAACUsUAAAAAAADawQAAAAAAAWKtAAAAAAABYq0AAAAAAAHiuQAAAAAAAQK9AAAAAAAB+rUAAAAAAAKSvQAAAAAAAzLBAAAAAAAAEsEAAAAAAAPSqQAAAAAAAtqxAAAAAAADorEAAAAAAAMCyQAAAAAAAkKpAAAAAAACErEAAAAAAAKimQAAAAAAA7qtAAAAAAAAwsUAAAAAAANyuQAAAAAAAZKlAAAAAAACwrUAAAAAAAJCqQAAAAAAAhKxAAAAAAACKq0AAAAAAAEytQAAAAAAApK9AAAAAAAD6qUAAAAAAAH6tQAAAAAAAtqxAAAAAAADorEAAAAAAAMipQAAAAAAAvKtAAAAAAACErEAAAAAAAIqrQAAAAAAAFK5AAAAAAABkqUAAAAAAACCsQA==",
          "dtype": "f8"
         },
         "z": {
          "bdata": "MzMzMzNzREAAAAAAAIBIQAAAAAAAgElAZmZmZmZmSkDNzMzMzAxHQJqZmZmZ2UhAAAAAAAAATUAzMzMzM3NHQM3MzMzMDElAmpmZmZkZSkAAAAAAAABHQJqZmZmZ2UlAmpmZmZnZRkAAAAAAAIBIQAAAAAAAQEVAmpmZmZmZRkBmZmZmZmZJQGZmZmZmpkhAAAAAAADASkAAAAAAAABKQAAAAAAAwEZAAAAAAABAR0AAAAAAAMBHQGZmZmZm5ktAzczMzMzMSEAAAAAAAABKQJqZmZmZGUtAZmZmZmZmSUAzMzMzMzNHQDMzMzMzc0lAAAAAAACAR0AAAAAAAABKQAAAAAAAwEVAZmZmZmamSUCamZmZmZlFQDMzMzMz80ZAmpmZmZmZSEAzMzMzM7NJQJqZmZmZmUZAzczMzMxMR0AAAAAAAEBJQJqZmZmZ2UZAzczMzMzMRkBmZmZmZqZJQAAAAAAAQElAzczMzMwMSECamZmZmRlJQGZmZmZm5khAZmZmZmamSUCamZmZmVlHQDMzMzMzc0lAZmZmZmZmR0AzMzMzM7NGQM3MzMzMzEdAAAAAAADASUAzMzMzMzNFQA==",
          "dtype": "f8"
         }
        },
        {
         "hovertemplate": "<b>%{hovertext}</b><br><br>Species=Gentoo penguin (Pygoscelis papua)<br>Culmen Length (mm)=%{z}<br>Body Mass (g)=%{y}<extra></extra>",
         "hovertext": [
          "Gentoo penguin (Pygoscelis papua)",
          "Gentoo penguin (Pygoscelis papua)",
          "Gentoo penguin (Pygoscelis papua)",
          "Gentoo penguin (Pygoscelis papua)",
          "Gentoo penguin (Pygoscelis papua)",
          "Gentoo penguin (Pygoscelis papua)",
          "Gentoo penguin (Pygoscelis papua)",
          "Gentoo penguin (Pygoscelis papua)",
          "Gentoo penguin (Pygoscelis papua)",
          "Gentoo penguin (Pygoscelis papua)",
          "Gentoo penguin (Pygoscelis papua)",
          "Gentoo penguin (Pygoscelis papua)",
          "Gentoo penguin (Pygoscelis papua)",
          "Gentoo penguin (Pygoscelis papua)",
          "Gentoo penguin (Pygoscelis papua)",
          "Gentoo penguin (Pygoscelis papua)",
          "Gentoo penguin (Pygoscelis papua)",
          "Gentoo penguin (Pygoscelis papua)",
          "Gentoo penguin (Pygoscelis papua)",
          "Gentoo penguin (Pygoscelis papua)",
          "Gentoo penguin (Pygoscelis papua)",
          "Gentoo penguin (Pygoscelis papua)",
          "Gentoo penguin (Pygoscelis papua)",
          "Gentoo penguin (Pygoscelis papua)",
          "Gentoo penguin (Pygoscelis papua)",
          "Gentoo penguin (Pygoscelis papua)",
          "Gentoo penguin (Pygoscelis papua)",
          "Gentoo penguin (Pygoscelis papua)",
          "Gentoo penguin (Pygoscelis papua)",
          "Gentoo penguin (Pygoscelis papua)",
          "Gentoo penguin (Pygoscelis papua)",
          "Gentoo penguin (Pygoscelis papua)",
          "Gentoo penguin (Pygoscelis papua)",
          "Gentoo penguin (Pygoscelis papua)",
          "Gentoo penguin (Pygoscelis papua)",
          "Gentoo penguin (Pygoscelis papua)",
          "Gentoo penguin (Pygoscelis papua)",
          "Gentoo penguin (Pygoscelis papua)",
          "Gentoo penguin (Pygoscelis papua)",
          "Gentoo penguin (Pygoscelis papua)",
          "Gentoo penguin (Pygoscelis papua)",
          "Gentoo penguin (Pygoscelis papua)",
          "Gentoo penguin (Pygoscelis papua)",
          "Gentoo penguin (Pygoscelis papua)",
          "Gentoo penguin (Pygoscelis papua)",
          "Gentoo penguin (Pygoscelis papua)",
          "Gentoo penguin (Pygoscelis papua)",
          "Gentoo penguin (Pygoscelis papua)",
          "Gentoo penguin (Pygoscelis papua)",
          "Gentoo penguin (Pygoscelis papua)",
          "Gentoo penguin (Pygoscelis papua)",
          "Gentoo penguin (Pygoscelis papua)",
          "Gentoo penguin (Pygoscelis papua)",
          "Gentoo penguin (Pygoscelis papua)",
          "Gentoo penguin (Pygoscelis papua)",
          "Gentoo penguin (Pygoscelis papua)",
          "Gentoo penguin (Pygoscelis papua)",
          "Gentoo penguin (Pygoscelis papua)",
          "Gentoo penguin (Pygoscelis papua)",
          "Gentoo penguin (Pygoscelis papua)",
          "Gentoo penguin (Pygoscelis papua)",
          "Gentoo penguin (Pygoscelis papua)",
          "Gentoo penguin (Pygoscelis papua)",
          "Gentoo penguin (Pygoscelis papua)",
          "Gentoo penguin (Pygoscelis papua)",
          "Gentoo penguin (Pygoscelis papua)",
          "Gentoo penguin (Pygoscelis papua)",
          "Gentoo penguin (Pygoscelis papua)",
          "Gentoo penguin (Pygoscelis papua)",
          "Gentoo penguin (Pygoscelis papua)",
          "Gentoo penguin (Pygoscelis papua)",
          "Gentoo penguin (Pygoscelis papua)",
          "Gentoo penguin (Pygoscelis papua)",
          "Gentoo penguin (Pygoscelis papua)",
          "Gentoo penguin (Pygoscelis papua)",
          "Gentoo penguin (Pygoscelis papua)",
          "Gentoo penguin (Pygoscelis papua)",
          "Gentoo penguin (Pygoscelis papua)",
          "Gentoo penguin (Pygoscelis papua)",
          "Gentoo penguin (Pygoscelis papua)",
          "Gentoo penguin (Pygoscelis papua)",
          "Gentoo penguin (Pygoscelis papua)",
          "Gentoo penguin (Pygoscelis papua)",
          "Gentoo penguin (Pygoscelis papua)",
          "Gentoo penguin (Pygoscelis papua)",
          "Gentoo penguin (Pygoscelis papua)",
          "Gentoo penguin (Pygoscelis papua)",
          "Gentoo penguin (Pygoscelis papua)",
          "Gentoo penguin (Pygoscelis papua)",
          "Gentoo penguin (Pygoscelis papua)",
          "Gentoo penguin (Pygoscelis papua)",
          "Gentoo penguin (Pygoscelis papua)"
         ],
         "legendgroup": "Gentoo penguin (Pygoscelis papua)",
         "marker": {
          "color": "#EF553B",
          "symbol": "circle"
         },
         "mode": "markers",
         "name": "Gentoo penguin (Pygoscelis papua)",
         "scene": "scene",
         "showlegend": true,
         "type": "scatter3d",
         "x": {
          "bdata": "AAAAAAAASUBmZmZmZuZGQJqZmZmZmUdAmpmZmZnZRkDNzMzMzIxIQM3MzMzMDEhAMzMzMzNzRUAAAAAAAMBIQM3MzMzMDEdAZmZmZmZmRUDNzMzMzMxIQDMzMzMzs0ZAmpmZmZkZSEAzMzMzM3NGQDMzMzMzM0lAzczMzMyMRkAAAAAAAEBJQDMzMzMzc0RAzczMzMyMRkAzMzMzM3NGQDMzMzMzM0hAAAAAAABAR0AzMzMzMzNGQJqZmZmZWUVAzczMzMyMSECamZmZmZlGQM3MzMzMTEVAAAAAAADASUDNzMzMzAxJQAAAAAAAwEZAZmZmZmamRkBmZmZmZmZIQDMzMzMzM0lAAAAAAABASEAzMzMzMzNHQJqZmZmZmUhAZmZmZmbmR0DNzMzMzMxFQJqZmZmZGUpAZmZmZmamRUBmZmZmZuZFQM3MzMzMjElAAAAAAADAR0BmZmZmZmZHQGZmZmZmZklAAAAAAACASEAAAAAAAMBGQGZmZmZmpklAZmZmZmYmR0AAAAAAAMBGQJqZmZmZGUdAzczMzMwMR0BmZmZmZqZGQJqZmZmZmUZAzczMzMxMR0AzMzMzM7NFQAAAAAAAQEdAAAAAAAAARUCamZmZmZlFQM3MzMzMjEhAAAAAAAAASUDNzMzMzIxGQJqZmZmZmUZAAAAAAAAASUAAAAAAAMBFQM3MzMzMDEpAMzMzMzPzSECamZmZmVlIQGZmZmZmZkdAAAAAAABASUAAAAAAAEBHQDMzMzMzM0hAmpmZmZlZSEBmZmZmZuZIQAAAAAAAgEZAMzMzMzOzSEAAAAAAAMBHQAAAAAAAQEZAAAAAAAAASUAAAAAAAMBGQJqZmZmZGUdAmpmZmZkZR0CamZmZmZlGQJqZmZmZmUdAZmZmZmbmRkAAAAAAAEBHQGZmZmZmpkhAMzMzMzPzS0CamZmZmVlJQAAAAAAAwEVAmpmZmZlZR0DNzMzMzIxJQA==",
          "dtype": "f8"
         },
         "y": {
          "bdata": "AAAAAABEtkAAAAAAAGiwQAAAAAAAb7NAAAAAAAAwsUAAAAAAAB60QAAAAAAAfLVAAAAAAACIs0AAAAAAABK2QAAAAAAAlLFAAAAAAABcskAAAAAAAES2QAAAAAAAwLJAAAAAAAD4sUAAAAAAAI6yQAAAAAAAdrZAAAAAAAAwsUAAAAAAAIizQAAAAAAAKrJAAAAAAAC6s0AAAAAAAOyzQAAAAAAAGLVAAAAAAABQtEAAAAAAAIK0QAAAAAAA3K5AAAAAAAARskAAAAAAAFC0QAAAAAAAVrNAAAAAAAB8tUAAAAAAAIizQAAAAAAAjrJAAAAAAADMsEAAAAAAAHC3QAAAAAAArrVAAAAAAAC0tEAAAAAAAFyyQAAAAAAAnLhAAAAAAAAStkAAAAAAACSzQAAAAAAAGLVAAAAAAADfsUAAAAAAAMywQAAAAAAAcLdAAAAAAAALs0AAAAAAAPKyQAAAAAAA4LVAAAAAAACutUAAAAAAAIizQAAAAAAAtLRAAAAAAAC6s0AAAAAAACqyQAAAAAAAtLRAAAAAAADss0AAAAAAAGiwQAAAAAAAPrdAAAAAAADyskAAAAAAAPixQAAAAAAAMLFAAAAAAAA2sEAAAAAAAGKxQAAAAAAAfLVAAAAAAADmtEAAAAAAAIizQAAAAAAAtLRAAAAAAABEtkAAAAAAACqyQAAAAAAArrVAAAAAAAAYtUAAAAAAAOa0QAAAAAAAHrRAAAAAAAAYtUAAAAAAACSzQAAAAAAA2rZAAAAAAABisUAAAAAAAES2QAAAAAAAurNAAAAAAAA9s0AAAAAAAFazQAAAAAAA8rJAAAAAAACutUAAAAAAAGiwQAAAAAAAwLJAAAAAAAAXsUAAAAAAAI6yQAAAAAAAPbNAAAAAAABcskAAAAAAAMaxQAAAAAAA2rZAAAAAAADgtUAAAAAAAK61QAAAAAAAXLJAAAAAAABQtEAAAAAAAIK0QA==",
          "dtype": "f8"
         },
         "z": {
          "bdata": "AAAAAAAASUBmZmZmZuZGQJqZmZmZmUdAmpmZmZnZRkDNzMzMzIxIQM3MzMzMDEhAMzMzMzNzRUAAAAAAAMBIQM3MzMzMDEdAZmZmZmZmRUDNzMzMzMxIQDMzMzMzs0ZAmpmZmZkZSEAzMzMzM3NGQDMzMzMzM0lAzczMzMyMRkAAAAAAAEBJQDMzMzMzc0RAzczMzMyMRkAzMzMzM3NGQDMzMzMzM0hAAAAAAABAR0AzMzMzMzNGQJqZmZmZWUVAzczMzMyMSECamZmZmZlGQM3MzMzMTEVAAAAAAADASUDNzMzMzAxJQAAAAAAAwEZAZmZmZmamRkBmZmZmZmZIQDMzMzMzM0lAAAAAAABASEAzMzMzMzNHQJqZmZmZmUhAZmZmZmbmR0DNzMzMzMxFQJqZmZmZGUpAZmZmZmamRUBmZmZmZuZFQM3MzMzMjElAAAAAAADAR0BmZmZmZmZHQGZmZmZmZklAAAAAAACASEAAAAAAAMBGQGZmZmZmpklAZmZmZmYmR0AAAAAAAMBGQJqZmZmZGUdAzczMzMwMR0BmZmZmZqZGQJqZmZmZmUZAzczMzMxMR0AzMzMzM7NFQAAAAAAAQEdAAAAAAAAARUCamZmZmZlFQM3MzMzMjEhAAAAAAAAASUDNzMzMzIxGQJqZmZmZmUZAAAAAAAAASUAAAAAAAMBFQM3MzMzMDEpAMzMzMzPzSECamZmZmVlIQGZmZmZmZkdAAAAAAABASUAAAAAAAEBHQDMzMzMzM0hAmpmZmZlZSEBmZmZmZuZIQAAAAAAAgEZAMzMzMzOzSEAAAAAAAMBHQAAAAAAAQEZAAAAAAAAASUAAAAAAAMBGQJqZmZmZGUdAmpmZmZkZR0CamZmZmZlGQJqZmZmZmUdAZmZmZmbmRkAAAAAAAEBHQGZmZmZmpkhAMzMzMzPzS0CamZmZmVlJQAAAAAAAwEVAmpmZmZlZR0DNzMzMzIxJQA==",
          "dtype": "f8"
         }
        },
        {
         "hovertemplate": "<b>%{hovertext}</b><br><br>Species=Adelie Penguin (Pygoscelis adeliae)<br>Culmen Length (mm)=%{z}<br>Body Mass (g)=%{y}<extra></extra>",
         "hovertext": [
          "Adelie Penguin (Pygoscelis adeliae)",
          "Adelie Penguin (Pygoscelis adeliae)",
          "Adelie Penguin (Pygoscelis adeliae)",
          "Adelie Penguin (Pygoscelis adeliae)",
          "Adelie Penguin (Pygoscelis adeliae)",
          "Adelie Penguin (Pygoscelis adeliae)",
          "Adelie Penguin (Pygoscelis adeliae)",
          "Adelie Penguin (Pygoscelis adeliae)",
          "Adelie Penguin (Pygoscelis adeliae)",
          "Adelie Penguin (Pygoscelis adeliae)",
          "Adelie Penguin (Pygoscelis adeliae)",
          "Adelie Penguin (Pygoscelis adeliae)",
          "Adelie Penguin (Pygoscelis adeliae)",
          "Adelie Penguin (Pygoscelis adeliae)",
          "Adelie Penguin (Pygoscelis adeliae)",
          "Adelie Penguin (Pygoscelis adeliae)",
          "Adelie Penguin (Pygoscelis adeliae)",
          "Adelie Penguin (Pygoscelis adeliae)",
          "Adelie Penguin (Pygoscelis adeliae)",
          "Adelie Penguin (Pygoscelis adeliae)",
          "Adelie Penguin (Pygoscelis adeliae)",
          "Adelie Penguin (Pygoscelis adeliae)",
          "Adelie Penguin (Pygoscelis adeliae)",
          "Adelie Penguin (Pygoscelis adeliae)",
          "Adelie Penguin (Pygoscelis adeliae)",
          "Adelie Penguin (Pygoscelis adeliae)",
          "Adelie Penguin (Pygoscelis adeliae)",
          "Adelie Penguin (Pygoscelis adeliae)",
          "Adelie Penguin (Pygoscelis adeliae)",
          "Adelie Penguin (Pygoscelis adeliae)",
          "Adelie Penguin (Pygoscelis adeliae)",
          "Adelie Penguin (Pygoscelis adeliae)",
          "Adelie Penguin (Pygoscelis adeliae)",
          "Adelie Penguin (Pygoscelis adeliae)",
          "Adelie Penguin (Pygoscelis adeliae)",
          "Adelie Penguin (Pygoscelis adeliae)",
          "Adelie Penguin (Pygoscelis adeliae)",
          "Adelie Penguin (Pygoscelis adeliae)",
          "Adelie Penguin (Pygoscelis adeliae)",
          "Adelie Penguin (Pygoscelis adeliae)",
          "Adelie Penguin (Pygoscelis adeliae)",
          "Adelie Penguin (Pygoscelis adeliae)",
          "Adelie Penguin (Pygoscelis adeliae)",
          "Adelie Penguin (Pygoscelis adeliae)",
          "Adelie Penguin (Pygoscelis adeliae)",
          "Adelie Penguin (Pygoscelis adeliae)",
          "Adelie Penguin (Pygoscelis adeliae)",
          "Adelie Penguin (Pygoscelis adeliae)",
          "Adelie Penguin (Pygoscelis adeliae)",
          "Adelie Penguin (Pygoscelis adeliae)",
          "Adelie Penguin (Pygoscelis adeliae)",
          "Adelie Penguin (Pygoscelis adeliae)",
          "Adelie Penguin (Pygoscelis adeliae)",
          "Adelie Penguin (Pygoscelis adeliae)",
          "Adelie Penguin (Pygoscelis adeliae)",
          "Adelie Penguin (Pygoscelis adeliae)",
          "Adelie Penguin (Pygoscelis adeliae)",
          "Adelie Penguin (Pygoscelis adeliae)",
          "Adelie Penguin (Pygoscelis adeliae)",
          "Adelie Penguin (Pygoscelis adeliae)",
          "Adelie Penguin (Pygoscelis adeliae)",
          "Adelie Penguin (Pygoscelis adeliae)",
          "Adelie Penguin (Pygoscelis adeliae)",
          "Adelie Penguin (Pygoscelis adeliae)",
          "Adelie Penguin (Pygoscelis adeliae)",
          "Adelie Penguin (Pygoscelis adeliae)",
          "Adelie Penguin (Pygoscelis adeliae)",
          "Adelie Penguin (Pygoscelis adeliae)",
          "Adelie Penguin (Pygoscelis adeliae)",
          "Adelie Penguin (Pygoscelis adeliae)",
          "Adelie Penguin (Pygoscelis adeliae)",
          "Adelie Penguin (Pygoscelis adeliae)",
          "Adelie Penguin (Pygoscelis adeliae)",
          "Adelie Penguin (Pygoscelis adeliae)",
          "Adelie Penguin (Pygoscelis adeliae)",
          "Adelie Penguin (Pygoscelis adeliae)",
          "Adelie Penguin (Pygoscelis adeliae)",
          "Adelie Penguin (Pygoscelis adeliae)",
          "Adelie Penguin (Pygoscelis adeliae)",
          "Adelie Penguin (Pygoscelis adeliae)",
          "Adelie Penguin (Pygoscelis adeliae)",
          "Adelie Penguin (Pygoscelis adeliae)",
          "Adelie Penguin (Pygoscelis adeliae)",
          "Adelie Penguin (Pygoscelis adeliae)",
          "Adelie Penguin (Pygoscelis adeliae)",
          "Adelie Penguin (Pygoscelis adeliae)",
          "Adelie Penguin (Pygoscelis adeliae)",
          "Adelie Penguin (Pygoscelis adeliae)",
          "Adelie Penguin (Pygoscelis adeliae)",
          "Adelie Penguin (Pygoscelis adeliae)",
          "Adelie Penguin (Pygoscelis adeliae)",
          "Adelie Penguin (Pygoscelis adeliae)",
          "Adelie Penguin (Pygoscelis adeliae)",
          "Adelie Penguin (Pygoscelis adeliae)",
          "Adelie Penguin (Pygoscelis adeliae)",
          "Adelie Penguin (Pygoscelis adeliae)",
          "Adelie Penguin (Pygoscelis adeliae)",
          "Adelie Penguin (Pygoscelis adeliae)",
          "Adelie Penguin (Pygoscelis adeliae)",
          "Adelie Penguin (Pygoscelis adeliae)",
          "Adelie Penguin (Pygoscelis adeliae)",
          "Adelie Penguin (Pygoscelis adeliae)",
          "Adelie Penguin (Pygoscelis adeliae)",
          "Adelie Penguin (Pygoscelis adeliae)",
          "Adelie Penguin (Pygoscelis adeliae)",
          "Adelie Penguin (Pygoscelis adeliae)",
          "Adelie Penguin (Pygoscelis adeliae)",
          "Adelie Penguin (Pygoscelis adeliae)"
         ],
         "legendgroup": "Adelie Penguin (Pygoscelis adeliae)",
         "marker": {
          "color": "#00cc96",
          "symbol": "circle"
         },
         "mode": "markers",
         "name": "Adelie Penguin (Pygoscelis adeliae)",
         "scene": "scene",
         "showlegend": true,
         "type": "scatter3d",
         "x": {
          "bdata": "zczMzMyMREDNzMzMzExBQAAAAAAAAEFAzczMzMyMREDNzMzMzAxFQJqZmZmZ2UFAZmZmZmZmQ0AAAAAAAIBDQDMzMzMzM0FAzczMzMzMQ0CamZmZmRlFQDMzMzMz80JAzczMzMyMQUBmZmZmZiZDQGZmZmZmpkJAzczMzMyMREAzMzMzM3NEQM3MzMzMDENAzczMzMzMQkCamZmZmdlBQM3MzMzMDERAAAAAAACAQkDNzMzMzIxFQAAAAAAAQERAAAAAAADAREAAAAAAAABCQAAAAAAAgEFAmpmZmZnZQkCamZmZmVlEQAAAAAAAQERAAAAAAACAQ0AAAAAAAABFQDMzMzMz80JAAAAAAACAQkAzMzMzM7NEQGZmZmZmZkJAmpmZmZnZQkAAAAAAAEBFQDMzMzMzM0JAAAAAAAAAR0AAAAAAAEBDQJqZmZmZGUVAMzMzMzNzRUCamZmZmRlCQJqZmZmZGURAmpmZmZnZQ0BmZmZmZmZDQM3MzMzMTEFAmpmZmZlZQkAzMzMzM3NDQAAAAAAAQEFAmpmZmZmZQkDNzMzMzExCQJqZmZmZ2UNAzczMzMzMQkBmZmZmZqZBQAAAAAAAAEJAZmZmZmYmRUAAAAAAAABCQAAAAAAAgERAzczMzMwMRkDNzMzMzAxDQGZmZmZmZkNAAAAAAADAQUDNzMzMzMxGQAAAAAAAwEJAZmZmZmamQkAAAAAAAABCQJqZmZmZGURAmpmZmZmZQkCamZmZmZlFQDMzMzMzM0JAzczMzMyMRECamZmZmZlBQGZmZmZmJkJAmpmZmZnZQUBmZmZmZmZEQM3MzMzMDEZAZmZmZmbmQkAAAAAAAIBDQJqZmZmZmUNAZmZmZmamQkCamZmZmRlDQM3MzMzMjERAZmZmZmbmRkBmZmZmZmZFQM3MzMzMTENAZmZmZmYmREBmZmZmZqZEQAAAAAAAwENAMzMzMzPzQUDNzMzMzExEQDMzMzMzc0RAmpmZmZkZQkAzMzMzM3NDQJqZmZmZGURAzczMzMxMREAzMzMzM7NEQJqZmZmZmUNAzczMzMzMQ0CamZmZmdlDQGZmZmZm5kRAzczMzMxMQ0CamZmZmZlDQM3MzMzMTERAMzMzMzPzQUAAAAAAAMBDQJqZmZmZWUJA",
          "dtype": "f8"
         },
         "y": {
          "bdata": "AAAAAACkr0AAAAAAADCxQAAAAAAAkKpAAAAAAAB4rkAAAAAAAECvQAAAAAAALKpAAAAAAADcrkAAAAAAALyrQAAAAAAA+qlAAAAAAABisUAAAAAAALyrQAAAAAAA2qZAAAAAAABosEAAAAAAANyuQAAAAAAAcKdAAAAAAADMsEAAAAAAAHiuQAAAAAAA6KxAAAAAAABMrUAAAAAAALyrQAAAAAAAzLBAAAAAAABwp0AAAAAAAFirQAAAAAAA3K5AAAAAAABAr0AAAAAAADioQAAAAAAA9KpAAAAAAAAgrEAAAAAAABqtQAAAAAAAAKlAAAAAAADUp0AAAAAAAKSvQAAAAAAAnKhAAAAAAACQqkAAAAAAAOisQAAAAAAAWKtAAAAAAAAGqEAAAAAAAJSxQAAAAAAA+qlAAAAAAABosEAAAAAAAPqpQAAAAAAAs7BAAAAAAABcskAAAAAAAJyoQAAAAAAA9KpAAAAAAACasEAAAAAAAJapQAAAAAAAAKlAAAAAAACwrUAAAAAAACCsQAAAAAAAqKZAAAAAAAB4rkAAAAAAACarQAAAAAAAvKtAAAAAAAAgrEAAAAAAALCtQAAAAAAA9KpAAAAAAAA2sEAAAAAAAOisQAAAAAAAdbJAAAAAAABAr0AAAAAAAM6oQAAAAAAAsK1AAAAAAAAsqkAAAAAAAPixQAAAAAAAe7FAAAAAAAAsqkAAAAAAAPSqQAAAAAAADq9AAAAAAAB4rkAAAAAAAASwQAAAAAAARKZAAAAAAAD6qUAAAAAAANSnQAAAAAAAsK1AAAAAAACcqEAAAAAAAMywQAAAAAAAMLFAAAAAAACasEAAAAAAAISsQAAAAAAAQ7JAAAAAAAB+rUAAAAAAANyuQAAAAAAABLBAAAAAAAA2sEAAAAAAAJqwQAAAAAAAqKZAAAAAAABkqUAAAAAAADCxQAAAAAAAZKlAAAAAAACwrUAAAAAAAECvQAAAAAAA6KxAAAAAAADIqUAAAAAAAFKsQAAAAAAAkKpAAAAAAACwrUAAAAAAAEauQAAAAAAANrBAAAAAAAB4rkAAAAAAAHiuQAAAAAAAYrFAAAAAAABMrUAAAAAAAJqwQAAAAAAAJqtAAAAAAADUp0AAAAAAAMipQAAAAAAA9KpA",
          "dtype": "f8"
         },
         "z": {
          "bdata": "zczMzMyMREDNzMzMzExBQAAAAAAAAEFAzczMzMyMREDNzMzMzAxFQJqZmZmZ2UFAZmZmZmZmQ0AAAAAAAIBDQDMzMzMzM0FAzczMzMzMQ0CamZmZmRlFQDMzMzMz80JAzczMzMyMQUBmZmZmZiZDQGZmZmZmpkJAzczMzMyMREAzMzMzM3NEQM3MzMzMDENAzczMzMzMQkCamZmZmdlBQM3MzMzMDERAAAAAAACAQkDNzMzMzIxFQAAAAAAAQERAAAAAAADAREAAAAAAAABCQAAAAAAAgEFAmpmZmZnZQkCamZmZmVlEQAAAAAAAQERAAAAAAACAQ0AAAAAAAABFQDMzMzMz80JAAAAAAACAQkAzMzMzM7NEQGZmZmZmZkJAmpmZmZnZQkAAAAAAAEBFQDMzMzMzM0JAAAAAAAAAR0AAAAAAAEBDQJqZmZmZGUVAMzMzMzNzRUCamZmZmRlCQJqZmZmZGURAmpmZmZnZQ0BmZmZmZmZDQM3MzMzMTEFAmpmZmZlZQkAzMzMzM3NDQAAAAAAAQEFAmpmZmZmZQkDNzMzMzExCQJqZmZmZ2UNAzczMzMzMQkBmZmZmZqZBQAAAAAAAAEJAZmZmZmYmRUAAAAAAAABCQAAAAAAAgERAzczMzMwMRkDNzMzMzAxDQGZmZmZmZkNAAAAAAADAQUDNzMzMzMxGQAAAAAAAwEJAZmZmZmamQkAAAAAAAABCQJqZmZmZGURAmpmZmZmZQkCamZmZmZlFQDMzMzMzM0JAzczMzMyMRECamZmZmZlBQGZmZmZmJkJAmpmZmZnZQUBmZmZmZmZEQM3MzMzMDEZAZmZmZmbmQkAAAAAAAIBDQJqZmZmZmUNAZmZmZmamQkCamZmZmRlDQM3MzMzMjERAZmZmZmbmRkBmZmZmZmZFQM3MzMzMTENAZmZmZmYmREBmZmZmZqZEQAAAAAAAwENAMzMzMzPzQUDNzMzMzExEQDMzMzMzc0RAmpmZmZkZQkAzMzMzM3NDQJqZmZmZGURAzczMzMxMREAzMzMzM7NEQJqZmZmZmUNAzczMzMzMQ0CamZmZmdlDQGZmZmZm5kRAzczMzMxMQ0CamZmZmZlDQM3MzMzMTERAMzMzMzPzQUAAAAAAAMBDQJqZmZmZWUJA",
          "dtype": "f8"
         }
        }
       ],
       "layout": {
        "legend": {
         "title": {
          "text": "Species"
         },
         "tracegroupgap": 0
        },
        "margin": {
         "t": 60
        },
        "scene": {
         "domain": {
          "x": [
           0,
           1
          ],
          "y": [
           0,
           1
          ]
         },
         "xaxis": {
          "title": {
           "text": "Culmen Length (mm)"
          }
         },
         "yaxis": {
          "title": {
           "text": "Body Mass (g)"
          }
         },
         "zaxis": {
          "title": {
           "text": "Culmen Length (mm)"
          }
         }
        },
        "template": {
         "data": {
          "bar": [
           {
            "error_x": {
             "color": "#2a3f5f"
            },
            "error_y": {
             "color": "#2a3f5f"
            },
            "marker": {
             "line": {
              "color": "#E5ECF6",
              "width": 0.5
             },
             "pattern": {
              "fillmode": "overlay",
              "size": 10,
              "solidity": 0.2
             }
            },
            "type": "bar"
           }
          ],
          "barpolar": [
           {
            "marker": {
             "line": {
              "color": "#E5ECF6",
              "width": 0.5
             },
             "pattern": {
              "fillmode": "overlay",
              "size": 10,
              "solidity": 0.2
             }
            },
            "type": "barpolar"
           }
          ],
          "carpet": [
           {
            "aaxis": {
             "endlinecolor": "#2a3f5f",
             "gridcolor": "white",
             "linecolor": "white",
             "minorgridcolor": "white",
             "startlinecolor": "#2a3f5f"
            },
            "baxis": {
             "endlinecolor": "#2a3f5f",
             "gridcolor": "white",
             "linecolor": "white",
             "minorgridcolor": "white",
             "startlinecolor": "#2a3f5f"
            },
            "type": "carpet"
           }
          ],
          "choropleth": [
           {
            "colorbar": {
             "outlinewidth": 0,
             "ticks": ""
            },
            "type": "choropleth"
           }
          ],
          "contour": [
           {
            "colorbar": {
             "outlinewidth": 0,
             "ticks": ""
            },
            "colorscale": [
             [
              0,
              "#0d0887"
             ],
             [
              0.1111111111111111,
              "#46039f"
             ],
             [
              0.2222222222222222,
              "#7201a8"
             ],
             [
              0.3333333333333333,
              "#9c179e"
             ],
             [
              0.4444444444444444,
              "#bd3786"
             ],
             [
              0.5555555555555556,
              "#d8576b"
             ],
             [
              0.6666666666666666,
              "#ed7953"
             ],
             [
              0.7777777777777778,
              "#fb9f3a"
             ],
             [
              0.8888888888888888,
              "#fdca26"
             ],
             [
              1,
              "#f0f921"
             ]
            ],
            "type": "contour"
           }
          ],
          "contourcarpet": [
           {
            "colorbar": {
             "outlinewidth": 0,
             "ticks": ""
            },
            "type": "contourcarpet"
           }
          ],
          "heatmap": [
           {
            "colorbar": {
             "outlinewidth": 0,
             "ticks": ""
            },
            "colorscale": [
             [
              0,
              "#0d0887"
             ],
             [
              0.1111111111111111,
              "#46039f"
             ],
             [
              0.2222222222222222,
              "#7201a8"
             ],
             [
              0.3333333333333333,
              "#9c179e"
             ],
             [
              0.4444444444444444,
              "#bd3786"
             ],
             [
              0.5555555555555556,
              "#d8576b"
             ],
             [
              0.6666666666666666,
              "#ed7953"
             ],
             [
              0.7777777777777778,
              "#fb9f3a"
             ],
             [
              0.8888888888888888,
              "#fdca26"
             ],
             [
              1,
              "#f0f921"
             ]
            ],
            "type": "heatmap"
           }
          ],
          "histogram": [
           {
            "marker": {
             "pattern": {
              "fillmode": "overlay",
              "size": 10,
              "solidity": 0.2
             }
            },
            "type": "histogram"
           }
          ],
          "histogram2d": [
           {
            "colorbar": {
             "outlinewidth": 0,
             "ticks": ""
            },
            "colorscale": [
             [
              0,
              "#0d0887"
             ],
             [
              0.1111111111111111,
              "#46039f"
             ],
             [
              0.2222222222222222,
              "#7201a8"
             ],
             [
              0.3333333333333333,
              "#9c179e"
             ],
             [
              0.4444444444444444,
              "#bd3786"
             ],
             [
              0.5555555555555556,
              "#d8576b"
             ],
             [
              0.6666666666666666,
              "#ed7953"
             ],
             [
              0.7777777777777778,
              "#fb9f3a"
             ],
             [
              0.8888888888888888,
              "#fdca26"
             ],
             [
              1,
              "#f0f921"
             ]
            ],
            "type": "histogram2d"
           }
          ],
          "histogram2dcontour": [
           {
            "colorbar": {
             "outlinewidth": 0,
             "ticks": ""
            },
            "colorscale": [
             [
              0,
              "#0d0887"
             ],
             [
              0.1111111111111111,
              "#46039f"
             ],
             [
              0.2222222222222222,
              "#7201a8"
             ],
             [
              0.3333333333333333,
              "#9c179e"
             ],
             [
              0.4444444444444444,
              "#bd3786"
             ],
             [
              0.5555555555555556,
              "#d8576b"
             ],
             [
              0.6666666666666666,
              "#ed7953"
             ],
             [
              0.7777777777777778,
              "#fb9f3a"
             ],
             [
              0.8888888888888888,
              "#fdca26"
             ],
             [
              1,
              "#f0f921"
             ]
            ],
            "type": "histogram2dcontour"
           }
          ],
          "mesh3d": [
           {
            "colorbar": {
             "outlinewidth": 0,
             "ticks": ""
            },
            "type": "mesh3d"
           }
          ],
          "parcoords": [
           {
            "line": {
             "colorbar": {
              "outlinewidth": 0,
              "ticks": ""
             }
            },
            "type": "parcoords"
           }
          ],
          "pie": [
           {
            "automargin": true,
            "type": "pie"
           }
          ],
          "scatter": [
           {
            "fillpattern": {
             "fillmode": "overlay",
             "size": 10,
             "solidity": 0.2
            },
            "type": "scatter"
           }
          ],
          "scatter3d": [
           {
            "line": {
             "colorbar": {
              "outlinewidth": 0,
              "ticks": ""
             }
            },
            "marker": {
             "colorbar": {
              "outlinewidth": 0,
              "ticks": ""
             }
            },
            "type": "scatter3d"
           }
          ],
          "scattercarpet": [
           {
            "marker": {
             "colorbar": {
              "outlinewidth": 0,
              "ticks": ""
             }
            },
            "type": "scattercarpet"
           }
          ],
          "scattergeo": [
           {
            "marker": {
             "colorbar": {
              "outlinewidth": 0,
              "ticks": ""
             }
            },
            "type": "scattergeo"
           }
          ],
          "scattergl": [
           {
            "marker": {
             "colorbar": {
              "outlinewidth": 0,
              "ticks": ""
             }
            },
            "type": "scattergl"
           }
          ],
          "scattermap": [
           {
            "marker": {
             "colorbar": {
              "outlinewidth": 0,
              "ticks": ""
             }
            },
            "type": "scattermap"
           }
          ],
          "scattermapbox": [
           {
            "marker": {
             "colorbar": {
              "outlinewidth": 0,
              "ticks": ""
             }
            },
            "type": "scattermapbox"
           }
          ],
          "scatterpolar": [
           {
            "marker": {
             "colorbar": {
              "outlinewidth": 0,
              "ticks": ""
             }
            },
            "type": "scatterpolar"
           }
          ],
          "scatterpolargl": [
           {
            "marker": {
             "colorbar": {
              "outlinewidth": 0,
              "ticks": ""
             }
            },
            "type": "scatterpolargl"
           }
          ],
          "scatterternary": [
           {
            "marker": {
             "colorbar": {
              "outlinewidth": 0,
              "ticks": ""
             }
            },
            "type": "scatterternary"
           }
          ],
          "surface": [
           {
            "colorbar": {
             "outlinewidth": 0,
             "ticks": ""
            },
            "colorscale": [
             [
              0,
              "#0d0887"
             ],
             [
              0.1111111111111111,
              "#46039f"
             ],
             [
              0.2222222222222222,
              "#7201a8"
             ],
             [
              0.3333333333333333,
              "#9c179e"
             ],
             [
              0.4444444444444444,
              "#bd3786"
             ],
             [
              0.5555555555555556,
              "#d8576b"
             ],
             [
              0.6666666666666666,
              "#ed7953"
             ],
             [
              0.7777777777777778,
              "#fb9f3a"
             ],
             [
              0.8888888888888888,
              "#fdca26"
             ],
             [
              1,
              "#f0f921"
             ]
            ],
            "type": "surface"
           }
          ],
          "table": [
           {
            "cells": {
             "fill": {
              "color": "#EBF0F8"
             },
             "line": {
              "color": "white"
             }
            },
            "header": {
             "fill": {
              "color": "#C8D4E3"
             },
             "line": {
              "color": "white"
             }
            },
            "type": "table"
           }
          ]
         },
         "layout": {
          "annotationdefaults": {
           "arrowcolor": "#2a3f5f",
           "arrowhead": 0,
           "arrowwidth": 1
          },
          "autotypenumbers": "strict",
          "coloraxis": {
           "colorbar": {
            "outlinewidth": 0,
            "ticks": ""
           }
          },
          "colorscale": {
           "diverging": [
            [
             0,
             "#8e0152"
            ],
            [
             0.1,
             "#c51b7d"
            ],
            [
             0.2,
             "#de77ae"
            ],
            [
             0.3,
             "#f1b6da"
            ],
            [
             0.4,
             "#fde0ef"
            ],
            [
             0.5,
             "#f7f7f7"
            ],
            [
             0.6,
             "#e6f5d0"
            ],
            [
             0.7,
             "#b8e186"
            ],
            [
             0.8,
             "#7fbc41"
            ],
            [
             0.9,
             "#4d9221"
            ],
            [
             1,
             "#276419"
            ]
           ],
           "sequential": [
            [
             0,
             "#0d0887"
            ],
            [
             0.1111111111111111,
             "#46039f"
            ],
            [
             0.2222222222222222,
             "#7201a8"
            ],
            [
             0.3333333333333333,
             "#9c179e"
            ],
            [
             0.4444444444444444,
             "#bd3786"
            ],
            [
             0.5555555555555556,
             "#d8576b"
            ],
            [
             0.6666666666666666,
             "#ed7953"
            ],
            [
             0.7777777777777778,
             "#fb9f3a"
            ],
            [
             0.8888888888888888,
             "#fdca26"
            ],
            [
             1,
             "#f0f921"
            ]
           ],
           "sequentialminus": [
            [
             0,
             "#0d0887"
            ],
            [
             0.1111111111111111,
             "#46039f"
            ],
            [
             0.2222222222222222,
             "#7201a8"
            ],
            [
             0.3333333333333333,
             "#9c179e"
            ],
            [
             0.4444444444444444,
             "#bd3786"
            ],
            [
             0.5555555555555556,
             "#d8576b"
            ],
            [
             0.6666666666666666,
             "#ed7953"
            ],
            [
             0.7777777777777778,
             "#fb9f3a"
            ],
            [
             0.8888888888888888,
             "#fdca26"
            ],
            [
             1,
             "#f0f921"
            ]
           ]
          },
          "colorway": [
           "#636efa",
           "#EF553B",
           "#00cc96",
           "#ab63fa",
           "#FFA15A",
           "#19d3f3",
           "#FF6692",
           "#B6E880",
           "#FF97FF",
           "#FECB52"
          ],
          "font": {
           "color": "#2a3f5f"
          },
          "geo": {
           "bgcolor": "white",
           "lakecolor": "white",
           "landcolor": "#E5ECF6",
           "showlakes": true,
           "showland": true,
           "subunitcolor": "white"
          },
          "hoverlabel": {
           "align": "left"
          },
          "hovermode": "closest",
          "mapbox": {
           "style": "light"
          },
          "paper_bgcolor": "white",
          "plot_bgcolor": "#E5ECF6",
          "polar": {
           "angularaxis": {
            "gridcolor": "white",
            "linecolor": "white",
            "ticks": ""
           },
           "bgcolor": "#E5ECF6",
           "radialaxis": {
            "gridcolor": "white",
            "linecolor": "white",
            "ticks": ""
           }
          },
          "scene": {
           "xaxis": {
            "backgroundcolor": "#E5ECF6",
            "gridcolor": "white",
            "gridwidth": 2,
            "linecolor": "white",
            "showbackground": true,
            "ticks": "",
            "zerolinecolor": "white"
           },
           "yaxis": {
            "backgroundcolor": "#E5ECF6",
            "gridcolor": "white",
            "gridwidth": 2,
            "linecolor": "white",
            "showbackground": true,
            "ticks": "",
            "zerolinecolor": "white"
           },
           "zaxis": {
            "backgroundcolor": "#E5ECF6",
            "gridcolor": "white",
            "gridwidth": 2,
            "linecolor": "white",
            "showbackground": true,
            "ticks": "",
            "zerolinecolor": "white"
           }
          },
          "shapedefaults": {
           "line": {
            "color": "#2a3f5f"
           }
          },
          "ternary": {
           "aaxis": {
            "gridcolor": "white",
            "linecolor": "white",
            "ticks": ""
           },
           "baxis": {
            "gridcolor": "white",
            "linecolor": "white",
            "ticks": ""
           },
           "bgcolor": "#E5ECF6",
           "caxis": {
            "gridcolor": "white",
            "linecolor": "white",
            "ticks": ""
           }
          },
          "title": {
           "x": 0.05
          },
          "xaxis": {
           "automargin": true,
           "gridcolor": "white",
           "linecolor": "white",
           "ticks": "",
           "title": {
            "standoff": 15
           },
           "zerolinecolor": "white",
           "zerolinewidth": 2
          },
          "yaxis": {
           "automargin": true,
           "gridcolor": "white",
           "linecolor": "white",
           "ticks": "",
           "title": {
            "standoff": 15
           },
           "zerolinecolor": "white",
           "zerolinewidth": 2
          }
         }
        }
       }
      }
     },
     "metadata": {},
     "output_type": "display_data"
    },
    {
     "data": {
      "image/png": "[encoded data removed]",
      "text/plain": [
       "<Figure size 800x600 with 1 Axes>"
      ]
     },
     "metadata": {},
     "output_type": "display_data"
    },
    {
     "data": {
      "image/png": "[encoded data removed]",
      "text/plain": [
       "<Figure size 800x600 with 1 Axes>"
      ]
     },
     "metadata": {},
     "output_type": "display_data"
    }
   ],
   "source": [
    "import plotly.express as plotly\n",
    "import matplotlib.pyplot as plt\n",
    "import numpy as np\n",
    "# Plot 3D scatter\n",
    "fig = plotly.scatter_3d(\n",
    "    X_train,\n",
    "    x='Culmen Length (mm)',\n",
    "    y='Body Mass (g)',\n",
    "    z='Culmen Length (mm)',\n",
    "    color='Species',\n",
    "    hover_name='Species'\n",
    ")\n",
    "\n",
    "\n",
    "fig.show()\n",
    "#bar plor of island population ratios\n",
    "bar= data_summary[[\"Island_Biscoe\", \"Island_Dream\", \"Island_Torgersen\"]].plot(\n",
    "    kind=\"barh\",\n",
    "    stacked=True,\n",
    "    figsize=(8, 6),\n",
    "    colormap=\"viridis\"\n",
    ")\n",
    "\n",
    "bar = data_summary[[\"Sex_MALE\", \"Sex_FEMALE\"]].plot(\n",
    "    kind=\"barh\",\n",
    "    stacked=True,\n",
    "    figsize=(8, 6),\n",
    "    colormap=\"viridis\"\n",
    ")\n",
    "\n",
    "#labs :)\n",
    "bar.set_title(\"Island Population Ratios by Penguin Species\")\n",
    "bar.set_ylabel(\"Population Ratio\")\n",
    "bar.set_xlabel(\"Species\")\n",
    "bar.legend(title=\"Island\")\n",
    "plt.tight_layout()\n"
   ]
  },
  {
   "cell_type": "markdown",
   "metadata": {},
   "source": [
    "As I was deliberating between features, I noticed that the Culmin Length for Adelie penguins is a really good feature for distinguishing them from the other two species. To differentiate Gentoo from the other two species, I found Culmin Depth to be significantly lower on average than the other two species. Finally, I decided I needed a variable to differentiate the Chinstrap Penguins, which are exclusively on Dream Island as compared to lower rates in the other two species. "
   ]
  },
  {
   "cell_type": "markdown",
   "metadata": {},
   "source": [
    "## Model Training"
   ]
  },
  {
   "cell_type": "code",
   "execution_count": 24,
   "metadata": {},
   "outputs": [
    {
     "name": "stdout",
     "output_type": "stream",
     "text": [
      "Mean CV Accuracy: 0.9844\n",
      "Fold Scores: [0.98076923 0.98039216 1.         0.96078431 1.        ]\n"
     ]
    }
   ],
   "source": [
    "from sklearn.model_selection import cross_val_score\n",
    "from sklearn.preprocessing import LabelEncoder\n",
    "from sklearn.linear_model import LogisticRegression\n",
    "\n",
    "# Select relevant features and drop missing values\n",
    "features = [\"Culmen Depth (mm)\", \"Culmen Length (mm)\", \"Island_Dream\"]\n",
    "X_selected = X_train[features].dropna()\n",
    "\n",
    "# Extract X and y\n",
    "X = X_selected[features]\n",
    "\n",
    "# Encode target labels as integers\n",
    "label_encoder = LabelEncoder()\n",
    "y_encoded = label_encoder.fit_transform(y_train)\n",
    "\n",
    "# Initialize logistic regression model\n",
    "log_reg = LogisticRegression(max_iter=1000)\n",
    "\n",
    "# Perform 5-fold cross-validation\n",
    "scores = cross_val_score(log_reg, X, y_encoded, cv=5)\n",
    "\n",
    "# Print results\n",
    "print(f\"Mean CV Accuracy: {scores.mean():.4f}\")\n",
    "print(f\"Fold Scores: {scores}\")"
   ]
  },
  {
   "cell_type": "markdown",
   "metadata": {},
   "source": [
    "98% accuracy on average per fold is really good!"
   ]
  },
  {
   "cell_type": "markdown",
   "metadata": {},
   "source": [
    "## Conclusion :\n",
    "Feature selection in extremely important in being able to understand relationships that generate variation between groups. Good features can reduce runtime and accuracy."
   ]
  }
 ],
 "metadata": {
  "kernelspec": {
   "display_name": "ml-0451",
   "language": "python",
   "name": "python3"
  },
  "language_info": {
   "codemirror_mode": {
    "name": "ipython",
    "version": 3
   },
   "file_extension": ".py",
   "mimetype": "text/x-python",
   "name": "python",
   "nbconvert_exporter": "python",
   "pygments_lexer": "ipython3",
   "version": "3.12.9"
  }
 },
 "nbformat": 4,
 "nbformat_minor": 2
}
