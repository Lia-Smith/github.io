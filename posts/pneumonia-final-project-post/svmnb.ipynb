{
 "cells": [
  {
   "cell_type": "code",
   "execution_count": null,
   "id": "e48caf92",
   "metadata": {},
   "outputs": [],
   "source": [
    "import torch \n",
    "import matplotlib.pyplot as plt\n",
    "\n",
    "import pandas as pd\n"
   ]
  },
  {
   "cell_type": "code",
   "execution_count": 20,
   "id": "fac70631",
   "metadata": {},
   "outputs": [],
   "source": [
    "%load_ext autoreload\n",
    "%autoreload 2\n",
    "from svm import SVM"
   ]
  },
  {
   "cell_type": "code",
   "execution_count": 36,
   "id": "b8c228ae",
   "metadata": {},
   "outputs": [],
   "source": [
    "df = pd.read_csv('X_train.csv', header=None)\n",
    "\n",
    "X = torch.tensor(df.values, dtype=torch.float32)"
   ]
  },
  {
   "cell_type": "code",
   "execution_count": 35,
   "id": "994e8a17",
   "metadata": {},
   "outputs": [],
   "source": [
    "dfX_test = pd.read_csv('X_test.csv', header=None)\n",
    "X_test = torch.tensor(dfX_test.values, dtype=torch.float32)\n"
   ]
  },
  {
   "cell_type": "code",
   "execution_count": 34,
   "id": "f80ef122",
   "metadata": {},
   "outputs": [],
   "source": [
    "dfy_train = pd.read_csv('y_train.csv', header=None)\n",
    "y = torch.tensor(dfy_train.values, dtype=torch.float32)\n",
    "dfy_test = pd.read_csv('y_test.csv', header=None)\n",
    "y_test = torch.tensor(dfy_test.values)\n"
   ]
  },
  {
   "cell_type": "code",
   "execution_count": 40,
   "id": "08edca7d",
   "metadata": {},
   "outputs": [],
   "source": [
    "model  = SVM(n_iters=1000, lam= 0.01, batch_size=100)\n",
    "model.fit(X, y)"
   ]
  },
  {
   "cell_type": "code",
   "execution_count": 41,
   "id": "61b582bd",
   "metadata": {},
   "outputs": [
    {
     "data": {
      "text/plain": [
       "array([[ 77, 157],\n",
       "       [  4, 386]], dtype=int64)"
      ]
     },
     "execution_count": 41,
     "metadata": {},
     "output_type": "execute_result"
    }
   ],
   "source": [
    "from sklearn.metrics import confusion_matrix\n",
    "y_pred = model.predict(X_test)\n",
    "\n",
    "cm = confusion_matrix(y_test, y_pred)\n",
    "cm\n",
    "\n"
   ]
  },
  {
   "cell_type": "code",
   "execution_count": 42,
   "id": "805a88e1",
   "metadata": {},
   "outputs": [
    {
     "data": {
      "text/plain": [
       "0.7419871794871795"
      ]
     },
     "execution_count": 42,
     "metadata": {},
     "output_type": "execute_result"
    }
   ],
   "source": [
    "def accuracy(cm): \n",
    "    return (cm[0,0] + cm[1,1]) / cm.sum()\n",
    "accuracy(cm)"
   ]
  }
 ],
 "metadata": {
  "kernelspec": {
   "display_name": "ml-451",
   "language": "python",
   "name": "python3"
  },
  "language_info": {
   "codemirror_mode": {
    "name": "ipython",
    "version": 3
   },
   "file_extension": ".py",
   "mimetype": "text/x-python",
   "name": "python",
   "nbconvert_exporter": "python",
   "pygments_lexer": "ipython3",
   "version": "3.9.21"
  }
 },
 "nbformat": 4,
 "nbformat_minor": 5
}
